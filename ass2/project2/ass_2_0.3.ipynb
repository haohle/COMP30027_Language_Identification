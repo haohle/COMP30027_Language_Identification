{
 "cells": [
  {
   "cell_type": "code",
   "execution_count": 1,
   "metadata": {
    "collapsed": true
   },
   "outputs": [],
   "source": [
    "import json\n",
    "import pandas as pd\n",
    "import numpy as np"
   ]
  },
  {
   "cell_type": "code",
   "execution_count": 2,
   "metadata": {
    "collapsed": true
   },
   "outputs": [],
   "source": [
    "# test set\n",
    "test = pd.concat([pd.Series(json.loads(line)) for line in open('dev.json')], axis=1).T"
   ]
  },
  {
   "cell_type": "code",
   "execution_count": 3,
   "metadata": {
    "collapsed": false
   },
   "outputs": [],
   "source": [
    "# data set\n",
    "data = pd.concat([pd.Series(json.loads(line)) for line in open('train.json')], axis=1).T"
   ]
  },
  {
   "cell_type": "code",
   "execution_count": null,
   "metadata": {
    "collapsed": true
   },
   "outputs": [],
   "source": [
    "# slicing\n",
    "data = data.ix[:3702]"
   ]
  },
  {
   "cell_type": "code",
   "execution_count": 4,
   "metadata": {
    "collapsed": false
   },
   "outputs": [],
   "source": [
    "# excludes other columns for now\n",
    "data = data[['text', 'lang']]\n",
    "test = test[['text', 'lang']]"
   ]
  },
  {
   "cell_type": "code",
   "execution_count": 5,
   "metadata": {
    "collapsed": false
   },
   "outputs": [],
   "source": [
    "# shuffle dataset\n",
    "data = data.reindex(np.random.permutation(data.index))"
   ]
  },
  {
   "cell_type": "markdown",
   "metadata": {},
   "source": [
    "### Document Cleaning\n",
    "- Remove links\n",
    "- Remove usernames\n",
    "- Remove smilies/emojis"
   ]
  },
  {
   "cell_type": "code",
   "execution_count": 36,
   "metadata": {
    "collapsed": false
   },
   "outputs": [],
   "source": [
    "# links and usernames - no improvement??\n",
    "\n",
    "import re\n",
    "\n",
    "for i in range(0, len(test)):\n",
    "    test['text'][i] = re.sub(r\"http\\S+\", \"\", test['text'][i])\n",
    "    test['text'][i] = re.sub(r\"@\\S+\", \"\", test['text'][i])\n",
    "    test['text'][i] = re.sub(r\"#\\S+\", \"\", test['text'][i])\n",
    "    \n",
    "for i in range(0, len(data)):\n",
    "    data['text'][i] = re.sub(r\"http\\S+\", \"\", data['text'][i])\n",
    "    data['text'][i] = re.sub(r\"@\\S+\", \"\", data['text'][i])\n",
    "    data['text'][i] = re.sub(r\"#\\S+\", \"\", data['text'][i])"
   ]
  },
  {
   "cell_type": "code",
   "execution_count": 37,
   "metadata": {
    "collapsed": false
   },
   "outputs": [
    {
     "data": {
      "text/plain": [
       "'ja der sinndeslebens liee sich auf twitter übrigens auf globaler ebene sehr gut diskutieren meaningoflife'"
      ]
     },
     "execution_count": 37,
     "metadata": {},
     "output_type": "execute_result"
    }
   ],
   "source": [
    "test['text'][6]"
   ]
  },
  {
   "cell_type": "markdown",
   "metadata": {},
   "source": [
    "### Extract Features"
   ]
  },
  {
   "cell_type": "code",
   "execution_count": 8,
   "metadata": {
    "collapsed": false
   },
   "outputs": [
    {
     "data": {
      "text/plain": [
       "(37022, 1039132)"
      ]
     },
     "execution_count": 8,
     "metadata": {},
     "output_type": "execute_result"
    }
   ],
   "source": [
    "from sklearn.feature_extraction.text import CountVectorizer\n",
    "\n",
    "count_vectorizer = CountVectorizer()\n",
    "counts = count_vectorizer.fit_transform(data['text'].values)\n",
    "counts.shape"
   ]
  },
  {
   "cell_type": "markdown",
   "metadata": {},
   "source": [
    "### Classify"
   ]
  },
  {
   "cell_type": "code",
   "execution_count": 9,
   "metadata": {
    "collapsed": false
   },
   "outputs": [
    {
     "data": {
      "text/plain": [
       "MultinomialNB(alpha=1.0, class_prior=None, fit_prior=True)"
      ]
     },
     "execution_count": 9,
     "metadata": {},
     "output_type": "execute_result"
    }
   ],
   "source": [
    "from sklearn.naive_bayes import MultinomialNB\n",
    "\n",
    "classifier = MultinomialNB()\n",
    "targets = data['lang'].values\n",
    "classifier.fit(counts, targets)"
   ]
  },
  {
   "cell_type": "code",
   "execution_count": 10,
   "metadata": {
    "collapsed": false
   },
   "outputs": [
    {
     "data": {
      "text/plain": [
       "array(['ko', 'ko', 'en', 'en', 'en', 'en', 'en', 'en', 'en', 'en', 'en',\n",
       "       'ja'], \n",
       "      dtype='<U2')"
      ]
     },
     "execution_count": 10,
     "metadata": {},
     "output_type": "execute_result"
    }
   ],
   "source": [
    "examples = ['안녕 안녕 サム', '안녕하세요', 'test', 'francais', 'fuck', 'dick', 'trump', 'hi', 'sorry', 'lmao', 'french', 'こんにちは']\n",
    "example_counts = count_vectorizer.transform(examples)\n",
    "predictions = classifier.predict(example_counts)\n",
    "predictions"
   ]
  },
  {
   "cell_type": "markdown",
   "metadata": {},
   "source": [
    "### Pipelining\n",
    "Used to merge `feature extraction` and `classification` into one operation."
   ]
  },
  {
   "cell_type": "code",
   "execution_count": 51,
   "metadata": {
    "collapsed": false
   },
   "outputs": [
    {
     "data": {
      "text/plain": [
       "array(['ko', 'ko', 'fr', 'fr', 'de', 'en', 'es', 'en', 'en', 'en', 'en',\n",
       "       'ja'], \n",
       "      dtype='<U2')"
      ]
     },
     "execution_count": 51,
     "metadata": {},
     "output_type": "execute_result"
    }
   ],
   "source": [
    "from sklearn.pipeline import Pipeline\n",
    "from sklearn.feature_extraction.text import TfidfVectorizer\n",
    "\n",
    "pipeline = Pipeline([\n",
    "    ('vectorizer', CountVectorizer(ngram_range=(1, 3), analyzer=u'char')),\n",
    "    ('classifier', MultinomialNB())\n",
    "])\n",
    "\n",
    "pipeline.fit(data['text'].values, data['lang'].values)\n",
    "pipeline.predict(examples)"
   ]
  },
  {
   "cell_type": "markdown",
   "metadata": {},
   "source": [
    "### Evaluation"
   ]
  },
  {
   "cell_type": "code",
   "execution_count": 13,
   "metadata": {
    "collapsed": false
   },
   "outputs": [],
   "source": [
    "train_text = data['text'].values\n",
    "train_y = data['lang'].values\n",
    "\n",
    "test_text = test['text'].values\n",
    "test_y = test['lang'].values"
   ]
  },
  {
   "cell_type": "code",
   "execution_count": 21,
   "metadata": {
    "collapsed": false
   },
   "outputs": [
    {
     "data": {
      "text/plain": [
       "0.73779527559055114"
      ]
     },
     "execution_count": 21,
     "metadata": {},
     "output_type": "execute_result"
    }
   ],
   "source": [
    "pipeline.fit(train_text, train_y)\n",
    "predictions = pipeline.predict(test_text)\n",
    "np.mean(predictions == test_y)"
   ]
  },
  {
   "cell_type": "code",
   "execution_count": 52,
   "metadata": {
    "collapsed": false
   },
   "outputs": [
    {
     "data": {
      "text/plain": [
       "0.79988751406074243"
      ]
     },
     "execution_count": 52,
     "metadata": {},
     "output_type": "execute_result"
    }
   ],
   "source": [
    "pipeline.fit(train_text, train_y)\n",
    "predictions = pipeline.predict(test_text)\n",
    "np.mean(predictions == test_y)"
   ]
  },
  {
   "cell_type": "code",
   "execution_count": 57,
   "metadata": {
    "collapsed": false
   },
   "outputs": [
    {
     "name": "stdout",
     "output_type": "stream",
     "text": [
      "Training score: 96.3%\n"
     ]
    }
   ],
   "source": [
    "print(\"Training score: {0:.1f}%\".format(pipeline.score(train_text, train_y) * 100))"
   ]
  },
  {
   "cell_type": "code",
   "execution_count": 53,
   "metadata": {
    "collapsed": true
   },
   "outputs": [],
   "source": [
    "classifier_confidence = pipeline.predict_proba(test_text)"
   ]
  },
  {
   "cell_type": "markdown",
   "metadata": {},
   "source": [
    "### Attempt at thresholding to block out \"unk\""
   ]
  },
  {
   "cell_type": "code",
   "execution_count": 54,
   "metadata": {
    "collapsed": false,
    "scrolled": true
   },
   "outputs": [],
   "source": [
    "threshold = 0.7\n",
    "\n",
    "accepted_confidence = []\n",
    "test_pred = []\n",
    "\n",
    "# change dtype of predictions otherwise its default set to <U2\n",
    "predictions = predictions.astype('|S3')\n",
    "\n",
    "index = 0\n",
    "for i in classifier_confidence:\n",
    "    if (i.max() < threshold):\n",
    "        predictions[index] = 'unk'\n",
    "    index += 1"
   ]
  },
  {
   "cell_type": "code",
   "execution_count": 70,
   "metadata": {
    "collapsed": false
   },
   "outputs": [
    {
     "data": {
      "text/plain": [
       "array([  8.52585183e-300,   0.00000000e+000,   2.36931854e-038,\n",
       "         1.00000000e+000,   2.90737689e-045,   5.11873832e-302,\n",
       "         2.69191605e-055,   7.82552822e-245,   0.00000000e+000,\n",
       "         1.59865007e-082,   1.12133698e-246,   5.13654961e-243,\n",
       "         2.06879445e-285,   0.00000000e+000,   1.76953483e-015,\n",
       "         6.47347596e-285,   4.05826666e-280,   6.47005857e-284,\n",
       "         0.00000000e+000,   3.75940966e-168])"
      ]
     },
     "execution_count": 70,
     "metadata": {},
     "output_type": "execute_result"
    }
   ],
   "source": [
    "classifier_confidence[10]"
   ]
  },
  {
   "cell_type": "code",
   "execution_count": 71,
   "metadata": {
    "collapsed": false
   },
   "outputs": [
    {
     "data": {
      "text/plain": [
       "'unk'"
      ]
     },
     "execution_count": 71,
     "metadata": {},
     "output_type": "execute_result"
    }
   ],
   "source": [
    "test_y[10]"
   ]
  },
  {
   "cell_type": "code",
   "execution_count": 72,
   "metadata": {
    "collapsed": false
   },
   "outputs": [
    {
     "data": {
      "text/plain": [
       "b'en'"
      ]
     },
     "execution_count": 72,
     "metadata": {},
     "output_type": "execute_result"
    }
   ],
   "source": [
    "predictions[10]"
   ]
  },
  {
   "cell_type": "code",
   "execution_count": 55,
   "metadata": {
    "collapsed": false
   },
   "outputs": [],
   "source": [
    "correct = 0\n",
    "\n",
    "for i in range(0, len(predictions)):\n",
    "    if (predictions[i].decode('utf-8') == test_y[i]):\n",
    "        correct += 1"
   ]
  },
  {
   "cell_type": "code",
   "execution_count": 56,
   "metadata": {
    "collapsed": false
   },
   "outputs": [
    {
     "data": {
      "text/plain": [
       "0.805511811023622"
      ]
     },
     "execution_count": 56,
     "metadata": {},
     "output_type": "execute_result"
    }
   ],
   "source": [
    "# this is the new accuracy score when an attempt at blocking 'unk' was made\n",
    "correct/len(predictions)"
   ]
  },
  {
   "cell_type": "markdown",
   "metadata": {},
   "source": [
    "### Attempt with SVM"
   ]
  },
  {
   "cell_type": "code",
   "execution_count": null,
   "metadata": {
    "collapsed": false
   },
   "outputs": [],
   "source": [
    "from sklearn.linear_model import SGDClassifier\n",
    "\n",
    "pipeline = Pipeline([\n",
    "    ('vectorizer', CountVectorizer()),\n",
    "    ('classifier', SGDClassifier(loss='hinge', penalty='l2',\n",
    "                                 alpha=1e-3, n_iter=5, random_state=42))\n",
    "])\n",
    "\n",
    "pipeline.fit(train_text, train_y)\n",
    "predictions = pipeline.predict(test_text)\n",
    "np.mean(predictions == test_y)"
   ]
  },
  {
   "cell_type": "markdown",
   "metadata": {},
   "source": [
    "### Naive Bayes Attempt With tf & idf"
   ]
  },
  {
   "cell_type": "code",
   "execution_count": null,
   "metadata": {
    "collapsed": false
   },
   "outputs": [],
   "source": [
    "from sklearn.feature_extraction.text import TfidfTransformer\n",
    "\n",
    "tf_transformer = TfidfTransformer(use_idf=False)\n",
    "X_train_tf = tf_transformer.fit_transform(counts)\n",
    "X_train_tf.shape"
   ]
  },
  {
   "cell_type": "code",
   "execution_count": null,
   "metadata": {
    "collapsed": false
   },
   "outputs": [],
   "source": [
    "tfidf_transformer = TfidfTransformer()\n",
    "X_train_tfidf = tfidf_transformer.fit_transform(counts)\n",
    "X_train_tfidf.shape"
   ]
  },
  {
   "cell_type": "code",
   "execution_count": null,
   "metadata": {
    "collapsed": false,
    "scrolled": true
   },
   "outputs": [],
   "source": [
    "### TF - Naive Bayes\n",
    "\n",
    "'''\n",
    "pipeline = Pipeline([\n",
    "    ('vectorizer', CountVectorizer()),\n",
    "    ('classifier', MultinomialNB())\n",
    "])\n",
    "'''\n",
    "\n",
    "classifier = MultinomialNB().fit(X_train_tf, targets)\n",
    "\n",
    "X_new_counts = count_vectorizer.transform(test_text)\n",
    "X_new_tf = tf_transformer.transform(X_new_counts)\n",
    "\n",
    "predictions = classifier.predict(X_new_tf)\n",
    "\n",
    "np.mean(predictions == test_y)"
   ]
  },
  {
   "cell_type": "code",
   "execution_count": null,
   "metadata": {
    "collapsed": false
   },
   "outputs": [],
   "source": [
    "### TFIDF - Naive Bayes\n",
    "\n",
    "'''\n",
    "pipeline = Pipeline([\n",
    "    ('vectorizer', CountVectorizer()),\n",
    "    ('classifier', MultinomialNB())\n",
    "])\n",
    "'''\n",
    "\n",
    "classifier = MultinomialNB().fit(X_train_tfidf, targets)\n",
    "\n",
    "X_new_counts = count_vectorizer.transform(test_text)\n",
    "X_new_tfidf = tfidf_transformer.transform(X_new_counts)\n",
    "\n",
    "predictions = classifier.predict(X_new_tfidf)\n",
    "\n",
    "np.mean(predictions == test_y)"
   ]
  },
  {
   "cell_type": "markdown",
   "metadata": {},
   "source": [
    "### SVM Attempt with TF & TfIDF"
   ]
  },
  {
   "cell_type": "code",
   "execution_count": null,
   "metadata": {
    "collapsed": false
   },
   "outputs": [],
   "source": [
    "classifier = SGDClassifier(loss='hinge', penalty='l2',\n",
    "                                 alpha=1e-3, n_iter=5, random_state=42).fit(X_train_tf, targets)\n",
    "\n",
    "X_new_counts = count_vectorizer.transform(test_text)\n",
    "X_new_tf = tf_transformer.transform(X_new_counts)\n",
    "\n",
    "predictions = classifier.predict(X_new_tf)\n",
    "\n",
    "np.mean(predictions == test_y)"
   ]
  },
  {
   "cell_type": "code",
   "execution_count": null,
   "metadata": {
    "collapsed": false
   },
   "outputs": [],
   "source": [
    "classifier = SGDClassifier(loss='hinge', penalty='l2',\n",
    "                                 alpha=1e-3, n_iter=5, random_state=42).fit(X_train_tfidf, targets)\n",
    "\n",
    "X_new_counts = count_vectorizer.transform(test_text)\n",
    "X_new_tfidf = tfidf_transformer.transform(X_new_counts)\n",
    "\n",
    "predictions = classifier.predict(X_new_tfidf)\n",
    "\n",
    "np.mean(predictions == test_y)"
   ]
  },
  {
   "cell_type": "code",
   "execution_count": null,
   "metadata": {
    "collapsed": true
   },
   "outputs": [],
   "source": []
  }
 ],
 "metadata": {
  "kernelspec": {
   "display_name": "Python 3",
   "language": "python",
   "name": "python3"
  },
  "language_info": {
   "codemirror_mode": {
    "name": "ipython",
    "version": 3
   },
   "file_extension": ".py",
   "mimetype": "text/x-python",
   "name": "python",
   "nbconvert_exporter": "python",
   "pygments_lexer": "ipython3",
   "version": "3.6.0"
  }
 },
 "nbformat": 4,
 "nbformat_minor": 2
}
